{
 "cells": [
  {
   "cell_type": "markdown",
   "id": "continent-special",
   "metadata": {},
   "source": [
    "### Necessary files\n",
    "\n",
    "This is the audio package Riley mentioned and it's pretty easy so I thought it's worth a shot. You'll need vosk (pip install vosk). This is full on audio recognition but it seemed easier to start here than to distinguish signals...\n",
    "\n",
    "Additionally, you'll need the neural network ideally the small english model which can be found at this [link](https://alphacephei.com/vosk/models)"
   ]
  },
  {
   "cell_type": "code",
   "execution_count": 12,
   "id": "common-operator",
   "metadata": {},
   "outputs": [],
   "source": [
    "# relevant packages\n",
    "from vosk import Model, KaldiRecognizer, SetLogLevel\n",
    "import sys\n",
    "import os\n",
    "import wave\n",
    "import subprocess\n",
    "\n",
    "SetLogLevel(0)\n",
    "\n",
    "if not os.path.exists(\"model\"):\n",
    "    print (\"Please download the model from https://alphacephei.com/vosk/models and unpack as 'model' in the current folder.\")\n",
    "    exit (1)"
   ]
  },
  {
   "cell_type": "code",
   "execution_count": 14,
   "id": "overall-sculpture",
   "metadata": {},
   "outputs": [
    {
     "name": "stdout",
     "output_type": "stream",
     "text": [
      "{\n",
      "  \"result\" : [{\n",
      "      \"conf\" : 0.674040,\n",
      "      \"end\" : 2.970000,\n",
      "      \"start\" : 2.430559,\n",
      "      \"word\" : \"yeah\"\n",
      "    }],\n",
      "  \"text\" : \"yeah\"\n",
      "}\n"
     ]
    }
   ],
   "source": [
    "sample_rate=16000\n",
    "# this should be the name\n",
    "model = Model(\"model\")\n",
    "rec = KaldiRecognizer(model, sample_rate)\n",
    "\n",
    "\n",
    "# this is the only really relevant parameter\n",
    "# it is set to read a wav file with this name\n",
    "# this is something we can get from the tbs2 even if it's low quality\n",
    "filename = 'onef2.wav'\n",
    "\n",
    "wf = wave.open(filename, \"rb\")\n",
    "if wf.getnchannels() != 1 or wf.getsampwidth() != 2 or wf.getcomptype() != \"NONE\":\n",
    "    print (\"Audio file must be WAV format mono PCM.\")\n",
    "    exit (1)\n",
    "\n",
    "model = Model(\"model\")\n",
    "rec = KaldiRecognizer(model, wf.getframerate())\n",
    "\n",
    "while True:\n",
    "    data = wf.readframes(4000)\n",
    "    if len(data) == 0:\n",
    "        break\n",
    "    if rec.AcceptWaveform(data):\n",
    "#         print(rec.Result())\n",
    "        pass\n",
    "    else:\n",
    "#         print(rec.PartialResult())\n",
    "        pass\n",
    "\n",
    "# less messy to just print the final\n",
    "print(rec.FinalResult())"
   ]
  }
 ],
 "metadata": {
  "kernelspec": {
   "display_name": "Python 3",
   "language": "python",
   "name": "python3"
  },
  "language_info": {
   "codemirror_mode": {
    "name": "ipython",
    "version": 3
   },
   "file_extension": ".py",
   "mimetype": "text/x-python",
   "name": "python",
   "nbconvert_exporter": "python",
   "pygments_lexer": "ipython3",
   "version": "3.7.1"
  }
 },
 "nbformat": 4,
 "nbformat_minor": 5
}
